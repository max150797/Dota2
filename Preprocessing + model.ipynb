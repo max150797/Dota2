{
 "cells": [
  {
   "cell_type": "code",
   "execution_count": 545,
   "metadata": {},
   "outputs": [],
   "source": [
    "import pandas as pd\n",
    "import numpy as np\n",
    "import matplotlib.pyplot as plt\n",
    "import seaborn as sns\n",
    "from scipy.sparse import csr_matrix\n",
    "\n",
    "from sklearn.preprocessing import LabelEncoder\n",
    "from sklearn.model_selection import train_test_split\n",
    "from category_encoders import TargetEncoder\n",
    "from sklearn.tree import DecisionTreeClassifier\n",
    "from sklearn.metrics import accuracy_score, recall_score, f1_score, mean_absolute_error, mean_squared_error, precision_score\n",
    "from sklearn.metrics import confusion_matrix\n",
    "from sklearn.metrics import auc, roc_auc_score, roc_curve\n",
    "from catboost import CatBoostClassifier\n",
    "\n",
    "RANDOM_SEED = 108"
   ]
  },
  {
   "cell_type": "markdown",
   "metadata": {},
   "source": [
    "## Подгружаем данные"
   ]
  },
  {
   "cell_type": "code",
   "execution_count": 653,
   "metadata": {},
   "outputs": [],
   "source": [
    "file = '\\data_final'\n",
    "predict = '\\predict'"
   ]
  },
  {
   "cell_type": "code",
   "execution_count": 654,
   "metadata": {},
   "outputs": [],
   "source": [
    "data = pd.read_csv(r'C:\\Users\\Максим\\Dota 2_PY_Project\\parse'+file+'.csv')\n",
    "data['sample'] = 0\n",
    "data_predict = pd.read_csv(r'C:\\Users\\Максим\\Dota 2_PY_Project\\parse'+predict+'.csv')\n",
    "data_predict['sample'] = 1\n",
    "data = pd.concat([data, data_predict], ignore_index=True)"
   ]
  },
  {
   "cell_type": "code",
   "execution_count": 655,
   "metadata": {},
   "outputs": [
    {
     "name": "stdout",
     "output_type": "stream",
     "text": [
      "<class 'pandas.core.frame.DataFrame'>\n",
      "RangeIndex: 10238 entries, 0 to 10237\n",
      "Data columns (total 18 columns):\n",
      " #   Column             Non-Null Count  Dtype \n",
      "---  ------             --------------  ----- \n",
      " 0   match              10238 non-null  object\n",
      " 1   pinnacle           10238 non-null  object\n",
      " 2   parimatch          10238 non-null  object\n",
      " 3   ggbet              10238 non-null  object\n",
      " 4   date               10238 non-null  object\n",
      " 5   tournament         10238 non-null  object\n",
      " 6   team left          10238 non-null  object\n",
      " 7   players_left       10238 non-null  object\n",
      " 8   team right         10238 non-null  object\n",
      " 9   players_right      10238 non-null  object\n",
      " 10  ban_left           10238 non-null  object\n",
      " 11  ban_right          10238 non-null  object\n",
      " 12  pick_left_team     10238 non-null  object\n",
      " 13  pick_right_team    10238 non-null  object\n",
      " 14  result_left_team   5140 non-null   object\n",
      " 15  result_right_team  5074 non-null   object\n",
      " 16  score              10238 non-null  object\n",
      " 17  sample             10238 non-null  int64 \n",
      "dtypes: int64(1), object(17)\n",
      "memory usage: 1.4+ MB\n"
     ]
    }
   ],
   "source": [
    "data = data.drop(columns=['Unnamed: 0'])\n",
    "data.info()"
   ]
  },
  {
   "cell_type": "markdown",
   "metadata": {},
   "source": [
    "## Обработка признаков\n",
    "### match"
   ]
  },
  {
   "cell_type": "code",
   "execution_count": 656,
   "metadata": {},
   "outputs": [],
   "source": [
    "data['match_left_team'] = data['match'].apply(lambda x: x.split(' vs ')[0])\n",
    "data['match_right_team'] = data['match'].apply(lambda x: x.split(' vs ')[1])\n",
    "data = data.drop(columns=['match'])"
   ]
  },
  {
   "cell_type": "code",
   "execution_count": 657,
   "metadata": {},
   "outputs": [
    {
     "data": {
      "text/html": [
       "<div>\n",
       "<style scoped>\n",
       "    .dataframe tbody tr th:only-of-type {\n",
       "        vertical-align: middle;\n",
       "    }\n",
       "\n",
       "    .dataframe tbody tr th {\n",
       "        vertical-align: top;\n",
       "    }\n",
       "\n",
       "    .dataframe thead th {\n",
       "        text-align: right;\n",
       "    }\n",
       "</style>\n",
       "<table border=\"1\" class=\"dataframe\">\n",
       "  <thead>\n",
       "    <tr style=\"text-align: right;\">\n",
       "      <th></th>\n",
       "      <th>match_left_team</th>\n",
       "      <th>match_right_team</th>\n",
       "    </tr>\n",
       "  </thead>\n",
       "  <tbody>\n",
       "    <tr>\n",
       "      <th>0</th>\n",
       "      <td>PuckChamp</td>\n",
       "      <td>Fantastic Five</td>\n",
       "    </tr>\n",
       "    <tr>\n",
       "      <th>1</th>\n",
       "      <td>PuckChamp</td>\n",
       "      <td>Fantastic Five</td>\n",
       "    </tr>\n",
       "    <tr>\n",
       "      <th>2</th>\n",
       "      <td>Spider Pigzs</td>\n",
       "      <td>Team Empire</td>\n",
       "    </tr>\n",
       "    <tr>\n",
       "      <th>3</th>\n",
       "      <td>Spider Pigzs</td>\n",
       "      <td>Team Empire</td>\n",
       "    </tr>\n",
       "    <tr>\n",
       "      <th>4</th>\n",
       "      <td>Spider Pigzs</td>\n",
       "      <td>Team Empire</td>\n",
       "    </tr>\n",
       "  </tbody>\n",
       "</table>\n",
       "</div>"
      ],
      "text/plain": [
       "  match_left_team match_right_team\n",
       "0       PuckChamp   Fantastic Five\n",
       "1       PuckChamp   Fantastic Five\n",
       "2    Spider Pigzs      Team Empire\n",
       "3    Spider Pigzs      Team Empire\n",
       "4    Spider Pigzs      Team Empire"
      ]
     },
     "execution_count": 657,
     "metadata": {},
     "output_type": "execute_result"
    }
   ],
   "source": [
    "data[['match_left_team', 'match_right_team']].head(5)"
   ]
  },
  {
   "cell_type": "markdown",
   "metadata": {},
   "source": [
    "### pinnacle"
   ]
  },
  {
   "cell_type": "code",
   "execution_count": 658,
   "metadata": {},
   "outputs": [],
   "source": [
    "data = data[data['pinnacle'] != '-'].reset_index(drop=True)\n",
    "data['pinnacle_left_team'] = data['pinnacle'].apply(\n",
    "    lambda x: float(x.split('-')[0]))\n",
    "data['pinnacle_right_team'] = data['pinnacle'].apply(\n",
    "    lambda x: float(x.split('-')[1]))\n",
    "data = data.drop(columns=['pinnacle', 'parimatch', 'ggbet'])"
   ]
  },
  {
   "cell_type": "code",
   "execution_count": 659,
   "metadata": {},
   "outputs": [
    {
     "name": "stderr",
     "output_type": "stream",
     "text": [
      "C:\\Anaconda\\lib\\site-packages\\pandas\\core\\indexing.py:671: SettingWithCopyWarning: \n",
      "A value is trying to be set on a copy of a slice from a DataFrame\n",
      "\n",
      "See the caveats in the documentation: https://pandas.pydata.org/pandas-docs/stable/user_guide/indexing.html#returning-a-view-versus-a-copy\n",
      "  self._setitem_with_indexer(indexer, value)\n"
     ]
    }
   ],
   "source": [
    "def odds_left(team, team_match, pinnacle_left_team, pinnacle_right_team):\n",
    "    if team == team_match:\n",
    "        return pinnacle_left_team\n",
    "    else:\n",
    "        return pinnacle_right_team\n",
    "\n",
    "\n",
    "def odds_right(team, team_match, pinnacle_left_team, pinnacle_right_team):\n",
    "    if team == team_match:\n",
    "        return pinnacle_right_team\n",
    "    else:\n",
    "        return pinnacle_left_team\n",
    "\n",
    "data['pinnacle_left_map'] = 0 \n",
    "data['pinnacle_right_map'] = 0\n",
    "\n",
    "for i in range(len(data)):\n",
    "    data['pinnacle_left_map'].iloc[i] = odds_left(\n",
    "        data['team left'].iloc[i], data['match_left_team'].iloc[i], data['pinnacle_left_team'].iloc[i], data['pinnacle_right_team'].iloc[i])\n",
    "    data['pinnacle_right_map'].iloc[i] = odds_right(\n",
    "        data['team right'].iloc[i], data['match_right_team'].iloc[i], data['pinnacle_left_team'].iloc[i], data['pinnacle_right_team'].iloc[i])\n",
    "\n",
    "data = data.drop(columns=['pinnacle_right_team', 'pinnacle_left_team'])\n",
    "# data = data.drop(columns=['pinnacle_right_map', 'pinnacle_left_map']) "
   ]
  },
  {
   "cell_type": "markdown",
   "metadata": {},
   "source": [
    "### date"
   ]
  },
  {
   "cell_type": "code",
   "execution_count": 660,
   "metadata": {},
   "outputs": [],
   "source": [
    "def month_rus_to_num(date):\n",
    "    date = date.lower()\n",
    "    date = date.split(' ')\n",
    "    months = {'августа': '8',\n",
    "              'сентября': '9',\n",
    "              'октября': '10',\n",
    "              'ноября': '11',\n",
    "              'декабря': '12',\n",
    "              'января': '1',\n",
    "              'февраля': '2',\n",
    "              'марта': '3',\n",
    "              'апреля': '4',\n",
    "              'мая': '5',\n",
    "              'июня': '6',\n",
    "              'июля': '7'}\n",
    "    return date[3] + ' ' + months[date[1]] + ' ' + date[0] + ' ' + date[2]"
   ]
  },
  {
   "cell_type": "code",
   "execution_count": 661,
   "metadata": {},
   "outputs": [],
   "source": [
    "data['date'] = data['date'].apply(month_rus_to_num)\n",
    "data['date'] = data['date'].apply(lambda x: pd.to_datetime(x))\n",
    "\n",
    "data['date_day'] = data['date'].dt.day\n",
    "data['date_year'] = data['date'].dt.year\n",
    "data['date_month'] = data['date'].dt.month\n",
    "data['date_weekday'] = data['date'].dt.weekday\n",
    "# data = data.drop(columns=['date'])"
   ]
  },
  {
   "cell_type": "markdown",
   "metadata": {},
   "source": [
    "### tournament"
   ]
  },
  {
   "cell_type": "code",
   "execution_count": 662,
   "metadata": {},
   "outputs": [],
   "source": [
    "tournaments = ['ESL', 'DreamLeague', 'MDL', 'BTS', 'Champions League', 'EPIC League', 'Pinnacle',\n",
    "               'WePlay', 'Realms Collide', 'The International', 'i-League', 'BEYOND', 'OMEGA League',\n",
    "               'Moon Studio', 'DOTA Summit', 'Hainan', 'Chinese DOTA2', 'Huya', 'The Great American',\n",
    "               'DPL-CDA', 'Parimatch', 'One Esports', 'Epic Prime', 'China Dota2', 'OGA', 'Dota Pro',\n",
    "               'StarLadder', 'LB/DOTA', 'SIGUL', 'WeSave', 'GGBET', 'CDA-FDC', 'BLAST', 'Gamers', 'Arena']\n",
    "\n",
    "\n",
    "def tournament(tour):\n",
    "    for i in tournaments:\n",
    "        if i.lower() in tour.lower():\n",
    "            return i\n",
    "\n",
    "\n",
    "data['tournament'] = data['tournament'].apply(tournament).fillna('other')"
   ]
  },
  {
   "cell_type": "markdown",
   "metadata": {},
   "source": [
    "### team left"
   ]
  },
  {
   "cell_type": "code",
   "execution_count": 663,
   "metadata": {},
   "outputs": [],
   "source": [
    "# удалим наименее популярные команды и матчи\n",
    "index_delete_match_team_left = []\n",
    "delete_match_team_left = list(\n",
    "    data['match_left_team'].value_counts().index[:-135])\n",
    "for team in delete_match_team_left:\n",
    "    index_delete_match_team_left.extend(\n",
    "        data.groupby(by='match_left_team').groups[team])\n",
    "data = data.loc[data.index.isin(index_delete_match_team_left)]\n",
    "data = data.reset_index(drop=True)"
   ]
  },
  {
   "cell_type": "markdown",
   "metadata": {},
   "source": [
    "### players_left"
   ]
  },
  {
   "cell_type": "code",
   "execution_count": 664,
   "metadata": {},
   "outputs": [],
   "source": [
    "data['players_left'] = data['players_left'].apply(lambda x: x.replace(\n",
    "    '[', '').replace(']', '').replace(\"'\", '').replace(' ', '').split(','))"
   ]
  },
  {
   "cell_type": "markdown",
   "metadata": {},
   "source": [
    "### team right"
   ]
  },
  {
   "cell_type": "code",
   "execution_count": 665,
   "metadata": {},
   "outputs": [],
   "source": [
    "index_delete_match_team_right = []\n",
    "delete_match_team_right = list(\n",
    "    data['match_right_team'].value_counts().index[:-135])\n",
    "for team in delete_match_team_right:\n",
    "    index_delete_match_team_right.extend(\n",
    "        data.groupby(by='match_right_team').groups[team])\n",
    "data = data.loc[data.index.isin(index_delete_match_team_right)]\n",
    "data = data.reset_index(drop=True)"
   ]
  },
  {
   "cell_type": "markdown",
   "metadata": {},
   "source": [
    "### players_right"
   ]
  },
  {
   "cell_type": "code",
   "execution_count": 666,
   "metadata": {},
   "outputs": [],
   "source": [
    "data['players_right'] = data['players_right'].apply(lambda x: x.replace(\n",
    "    '[', '').replace(']', '').replace(\"'\", '').replace(' ', '').split(','))"
   ]
  },
  {
   "cell_type": "markdown",
   "metadata": {},
   "source": [
    "### ban_left"
   ]
  },
  {
   "cell_type": "code",
   "execution_count": 667,
   "metadata": {},
   "outputs": [],
   "source": [
    "data['ban_left'] = data['ban_left'].apply(lambda x: x.replace(\n",
    "    '[', '').replace(']', '').replace(\"'\", '').replace(' ', '').split(','))"
   ]
  },
  {
   "cell_type": "markdown",
   "metadata": {},
   "source": [
    "### ban_right"
   ]
  },
  {
   "cell_type": "code",
   "execution_count": 668,
   "metadata": {},
   "outputs": [],
   "source": [
    "data['ban_right'] = data['ban_right'].apply(lambda x: x.replace(\n",
    "    '[', '').replace(']', '').replace(\"'\", '').replace(' ', '').split(','))"
   ]
  },
  {
   "cell_type": "markdown",
   "metadata": {},
   "source": [
    "### pick_left_team"
   ]
  },
  {
   "cell_type": "code",
   "execution_count": 669,
   "metadata": {},
   "outputs": [],
   "source": [
    "data['pick_left_team'] = data['pick_left_team'].apply(lambda x: x.replace(\n",
    "    '[', '').replace(']', '').replace(\"'\", '').replace(' ', '').split(','))"
   ]
  },
  {
   "cell_type": "markdown",
   "metadata": {},
   "source": [
    "### pick_right_team"
   ]
  },
  {
   "cell_type": "code",
   "execution_count": 670,
   "metadata": {},
   "outputs": [],
   "source": [
    "data['pick_right_team'] = data['pick_right_team'].apply(lambda x: x.replace(\n",
    "    '[', '').replace(']', '').replace(\"'\", '').replace(' ', '').split(','))"
   ]
  },
  {
   "cell_type": "markdown",
   "metadata": {},
   "source": [
    "### result_left_team"
   ]
  },
  {
   "cell_type": "code",
   "execution_count": 671,
   "metadata": {},
   "outputs": [],
   "source": [
    "data['result_left_team'] = data['result_left_team'].fillna(0)\n",
    "data['result_left_team'] = data['result_left_team'].apply(\n",
    "    lambda x: 1 if 'Победа' in str(x) else 0)\n",
    "data = data.drop(columns=['result_right_team'])"
   ]
  },
  {
   "cell_type": "markdown",
   "metadata": {},
   "source": [
    "### result_right_team"
   ]
  },
  {
   "cell_type": "code",
   "execution_count": 672,
   "metadata": {},
   "outputs": [],
   "source": [
    "# Оставим только result_left_team"
   ]
  },
  {
   "cell_type": "markdown",
   "metadata": {},
   "source": [
    "### score"
   ]
  },
  {
   "cell_type": "code",
   "execution_count": 673,
   "metadata": {},
   "outputs": [],
   "source": [
    "# data['score_left_team'] = data['score'].apply(lambda x: int(x.split(' : ')[0]))\n",
    "# data['score_right_team'] = data['score'].apply(\n",
    "#     lambda x: int(x.split(' : ')[1]))\n",
    "data = data.drop(columns=['score'])\n",
    "\n",
    "# удалим колонку match\n",
    "data = data.drop(columns=['match_left_team', 'match_right_team'])"
   ]
  },
  {
   "cell_type": "markdown",
   "metadata": {},
   "source": [
    "## Подготовка данных к машинному обучению"
   ]
  },
  {
   "cell_type": "code",
   "execution_count": 674,
   "metadata": {},
   "outputs": [
    {
     "name": "stdout",
     "output_type": "stream",
     "text": [
      "<class 'pandas.core.frame.DataFrame'>\n",
      "RangeIndex: 7649 entries, 0 to 7648\n",
      "Data columns (total 18 columns):\n",
      " #   Column              Non-Null Count  Dtype         \n",
      "---  ------              --------------  -----         \n",
      " 0   date                7649 non-null   datetime64[ns]\n",
      " 1   tournament          7649 non-null   object        \n",
      " 2   team left           7649 non-null   object        \n",
      " 3   players_left        7649 non-null   object        \n",
      " 4   team right          7649 non-null   object        \n",
      " 5   players_right       7649 non-null   object        \n",
      " 6   ban_left            7649 non-null   object        \n",
      " 7   ban_right           7649 non-null   object        \n",
      " 8   pick_left_team      7649 non-null   object        \n",
      " 9   pick_right_team     7649 non-null   object        \n",
      " 10  result_left_team    7649 non-null   int64         \n",
      " 11  sample              7649 non-null   int64         \n",
      " 12  pinnacle_left_map   7649 non-null   float64       \n",
      " 13  pinnacle_right_map  7649 non-null   float64       \n",
      " 14  date_day            7649 non-null   int64         \n",
      " 15  date_year           7649 non-null   int64         \n",
      " 16  date_month          7649 non-null   int64         \n",
      " 17  date_weekday        7649 non-null   int64         \n",
      "dtypes: datetime64[ns](1), float64(2), int64(6), object(9)\n",
      "memory usage: 1.1+ MB\n"
     ]
    }
   ],
   "source": [
    "# Колонки tournament, team left, team right, match_left_team, match_right_team преобразуем с помощью LabelEncoder/TargerEncoder\n",
    "# Колонки players_lef, players_right, ban_left, ban_right, pick_left_team, pick_right_team преобразуем с помощью get_dummies\n",
    "data.info()"
   ]
  },
  {
   "cell_type": "code",
   "execution_count": 675,
   "metadata": {},
   "outputs": [],
   "source": [
    "# TargetEncoder\n",
    "te = TargetEncoder()\n",
    "data['tournament'] = te.fit_transform(\n",
    "    data['tournament'], data['result_left_team'])\n",
    "te = TargetEncoder()\n",
    "data['team left'] = te.fit_transform(\n",
    "    data['team left'], data['result_left_team'])\n",
    "te = TargetEncoder()\n",
    "data['team right'] = te.fit_transform(\n",
    "    data['team right'], data['result_left_team'])"
   ]
  },
  {
   "cell_type": "code",
   "execution_count": 676,
   "metadata": {},
   "outputs": [],
   "source": [
    "# get_duumies\n",
    "# players left\n",
    "dummies_players_left = pd.get_dummies(data['players_left'].apply(pd.Series).stack(),prefix='pl_l').sum(level=0)\n",
    "data = data.drop(columns=['players_left'])\n",
    "data = pd.concat([data, dummies_players_left], axis=1)\n",
    "# # players_right\n",
    "dummies_players_right = pd.get_dummies(data['players_right'].apply(pd.Series).stack(), prefix = 'pl_r').sum(level=0)\n",
    "data = data.drop(columns=['players_right'])\n",
    "data = pd.concat([data, dummies_players_right], axis=1)\n",
    "# # ban_left\n",
    "dummies_ban_left = pd.get_dummies(data['ban_left'].apply(pd.Series).stack(), prefix = 'b_l').sum(level=0)\n",
    "data = data.drop(columns=['ban_left'])\n",
    "data = pd.concat([data, dummies_ban_left], axis=1)\n",
    "# # ban_right\n",
    "dummies_ban_right = pd.get_dummies(data['ban_right'].apply(pd.Series).stack(), prefix = 'b_r').sum(level=0)\n",
    "data = data.drop(columns=['ban_right'])\n",
    "data = pd.concat([data, dummies_ban_right], axis=1)\n",
    "# pick_left_team\n",
    "dummies_pick_left_team = pd.get_dummies(data['pick_left_team'].apply(pd.Series).stack(), prefix = 'p_l').sum(level=0)\n",
    "data = data.drop(columns=['pick_left_team'])\n",
    "data = pd.concat([data, dummies_pick_left_team], axis=1)\n",
    "# pick_right_team\n",
    "dummies_pick_right_team = pd.get_dummies(data['pick_right_team'].apply(pd.Series).stack(), prefix = 'p_r').sum(level=0)\n",
    "data = data.drop(columns=['pick_right_team'])\n",
    "data = pd.concat([data, dummies_pick_right_team], axis=1)"
   ]
  },
  {
   "cell_type": "code",
   "execution_count": 677,
   "metadata": {},
   "outputs": [],
   "source": [
    "# удалим дубликаты\n",
    "data = data.drop_duplicates()"
   ]
  },
  {
   "cell_type": "markdown",
   "metadata": {},
   "source": [
    "## Сплит X, y"
   ]
  },
  {
   "cell_type": "code",
   "execution_count": 678,
   "metadata": {},
   "outputs": [],
   "source": [
    "X = data[data['sample'] == 0].drop(columns=['result_left_team', 'pinnacle_left_map', 'pinnacle_right_map'])\n",
    "X_predict = data[data['sample'] == 1].drop(columns=['result_left_team', 'pinnacle_left_map', 'pinnacle_right_map'])\n",
    "X = X.drop(columns=['sample'])\n",
    "X_predict = X_predict.drop(columns=['sample'])\n",
    "y = data[data['sample'] != 1]['result_left_team']"
   ]
  },
  {
   "cell_type": "code",
   "execution_count": 679,
   "metadata": {},
   "outputs": [],
   "source": [
    "X_train, X_test, y_train, y_test = train_test_split(\n",
    "    X, y, test_size=0.2, random_state=RANDOM_SEED)"
   ]
  },
  {
   "cell_type": "markdown",
   "metadata": {},
   "source": [
    "## Машинное обучение\n",
    "### Базовая модель"
   ]
  },
  {
   "cell_type": "code",
   "execution_count": 57,
   "metadata": {},
   "outputs": [],
   "source": [
    "# model = DecisionTreeClassifier()\n",
    "# model.fit(X_train, y_train)"
   ]
  },
  {
   "cell_type": "code",
   "execution_count": 58,
   "metadata": {},
   "outputs": [],
   "source": [
    "# probs = model.predict_proba(X_test)\n",
    "# y_pred = model.predict(X_test)\n",
    "# probs = probs[:,1]\n",
    "\n",
    "# fpr, tpr, threshold = roc_curve(y_test, probs)\n",
    "# roc_auc = roc_auc_score(y_test, probs)\n",
    "\n",
    "# fig, ax = plt.subplots(figsize=(10,5))\n",
    "# plt.plot([0, 1], label='Baseline', linestyle='--')\n",
    "# plt.plot(fpr, tpr, label = 'Regression')\n",
    "# ax.set_title('Logistic Regression ROC AUC = %0.3f'%roc_auc)\n",
    "# plt.ylabel('True Positive Rate')\n",
    "# plt.xlabel('False Positive Rate')\n",
    "# plt.legend(loc='lower right')"
   ]
  },
  {
   "cell_type": "code",
   "execution_count": 59,
   "metadata": {},
   "outputs": [],
   "source": [
    "# print('accuracy_score: {}'.format(np.round(accuracy_score(y_test, y_pred), 4)))\n",
    "# print('f1_score: {}'.format(np.round(f1_score(y_test, y_pred), 4)))\n",
    "# print('recall_score: {}'.format(np.round(recall_score(y_test, y_pred), 4)))\n",
    "# print('MSE: {}'.format(np.round(mean_squared_error(y_test, y_pred), 4)))"
   ]
  },
  {
   "cell_type": "code",
   "execution_count": 60,
   "metadata": {},
   "outputs": [],
   "source": [
    "# # Визуализация confusion matrix:\n",
    "# sns.set_context(context='paper', font_scale=2, rc=None)\n",
    "# group_names = ['True Pos', 'False Pos', 'False Neg', 'True Neg']\n",
    "# group_counts = ['{0:0.0f}'.format(value) for value in\n",
    "#                 confusion_matrix(y_test, y_pred).flatten()]\n",
    "# labels = [f'{v1}\\n{v2}' for v1, v2 in\n",
    "#           zip(group_names, group_counts)]\n",
    "# labels = np.asarray(labels).reshape(2, 2)\n",
    "# ax = sns.heatmap(confusion_matrix(y_test, y_pred), annot=labels, fmt='', cmap='Greens')\n",
    "# ax.set(xlabel='predicted', ylabel='real',title = 'Confusion matrix')\n",
    "# plt.show()"
   ]
  },
  {
   "cell_type": "markdown",
   "metadata": {},
   "source": [
    "### CatBoostClassifier"
   ]
  },
  {
   "cell_type": "code",
   "execution_count": 70,
   "metadata": {},
   "outputs": [
    {
     "data": {
      "text/plain": [
       "<matplotlib.legend.Legend at 0x21d0f63e520>"
      ]
     },
     "execution_count": 70,
     "metadata": {},
     "output_type": "execute_result"
    },
    {
     "data": {
      "image/png": "[encoded data removed]",
      "text/plain": [
       "<Figure size 720x360 with 1 Axes>"
      ]
     },
     "metadata": {
      "needs_background": "light"
     },
     "output_type": "display_data"
    }
   ],
   "source": [
    "cat = CatBoostClassifier(n_estimators=5000,\n",
    "                         depth=3,\n",
    "                         logging_level='Silent')\n",
    "\n",
    "cat.fit(X_train, y_train)\n",
    "probs = cat.predict_proba(X_test)\n",
    "y_pred = cat.predict(X_test)\n",
    "probs = probs[:,1]\n",
    "\n",
    "fpr, tpr, threshold = roc_curve(y_test, probs)\n",
    "roc_auc = roc_auc_score(y_test, probs)\n",
    "\n",
    "fig, ax = plt.subplots(figsize=(10,5))\n",
    "plt.plot([0, 1], label='Baseline', linestyle='--')\n",
    "plt.plot(fpr, tpr, label = 'Regression')\n",
    "ax.set_title('Logistic Regression ROC AUC = %0.5f'%roc_auc)\n",
    "plt.ylabel('True Positive Rate')\n",
    "plt.xlabel('False Positive Rate')\n",
    "plt.legend(loc='lower right')"
   ]
  },
  {
   "cell_type": "code",
   "execution_count": 68,
   "metadata": {},
   "outputs": [
    {
     "data": {
      "image/png": "[encoded data removed]",
      "text/plain": [
       "<Figure size 432x288 with 2 Axes>"
      ]
     },
     "metadata": {
      "needs_background": "light"
     },
     "output_type": "display_data"
    }
   ],
   "source": [
    "sns.set_context(context='paper', font_scale=2, rc=None)\n",
    "group_names = ['True Pos', 'False Pos', 'False Neg', 'True Neg']\n",
    "group_counts = ['{0:0.0f}'.format(value) for value in\n",
    "                confusion_matrix(y_test, y_pred).flatten()]\n",
    "labels = [f'{v1}\\n{v2}' for v1, v2 in\n",
    "          zip(group_names, group_counts)]\n",
    "labels = np.asarray(labels).reshape(2, 2)\n",
    "ax = sns.heatmap(confusion_matrix(y_test, y_pred), annot=labels, fmt='', cmap='Greens')\n",
    "ax.set(xlabel='predicted', ylabel='real',title = 'Confusion matrix')\n",
    "plt.show()"
   ]
  },
  {
   "cell_type": "code",
   "execution_count": 427,
   "metadata": {},
   "outputs": [],
   "source": [
    "# for feature, score in zip(X.columns, cat.feature_importances_):\n",
    "#     print(feature, ':', score)"
   ]
  },
  {
   "cell_type": "markdown",
   "metadata": {},
   "source": [
    "### Predict"
   ]
  },
  {
   "cell_type": "code",
   "execution_count": 574,
   "metadata": {},
   "outputs": [],
   "source": [
    "probs_pred = cat.predict_proba(X_predict)\n",
    "y_pred_pred = cat.predict(X_predict)\n",
    "probs_pred = probs_pred[:,1]"
   ]
  },
  {
   "cell_type": "code",
   "execution_count": 575,
   "metadata": {},
   "outputs": [
    {
     "data": {
      "text/plain": [
       "array([], dtype=float64)"
      ]
     },
     "execution_count": 575,
     "metadata": {},
     "output_type": "execute_result"
    }
   ],
   "source": [
    "probs_pred"
   ]
  },
  {
   "cell_type": "code",
   "execution_count": 576,
   "metadata": {},
   "outputs": [
    {
     "data": {
      "text/html": [
       "<div>\n",
       "<style scoped>\n",
       "    .dataframe tbody tr th:only-of-type {\n",
       "        vertical-align: middle;\n",
       "    }\n",
       "\n",
       "    .dataframe tbody tr th {\n",
       "        vertical-align: top;\n",
       "    }\n",
       "\n",
       "    .dataframe thead th {\n",
       "        text-align: right;\n",
       "    }\n",
       "</style>\n",
       "<table border=\"1\" class=\"dataframe\">\n",
       "  <thead>\n",
       "    <tr style=\"text-align: right;\">\n",
       "      <th></th>\n",
       "      <th>team left</th>\n",
       "      <th>team right</th>\n",
       "      <th>probs_pred_left</th>\n",
       "      <th>probs_pred_right</th>\n",
       "    </tr>\n",
       "  </thead>\n",
       "  <tbody>\n",
       "  </tbody>\n",
       "</table>\n",
       "</div>"
      ],
      "text/plain": [
       "Empty DataFrame\n",
       "Columns: [team left, team right, probs_pred_left, probs_pred_right]\n",
       "Index: []"
      ]
     },
     "execution_count": 576,
     "metadata": {},
     "output_type": "execute_result"
    }
   ],
   "source": [
    "X_probs_predict = X_predict.copy()\n",
    "X_probs_predict['probs_pred_left'] = np.round(probs_pred,4)\n",
    "\n",
    "def predict(prob):\n",
    "    if prob > 0.55:\n",
    "        return 1\n",
    "    elif prob < 0.45:\n",
    "        return 0\n",
    "    else:\n",
    "        return 'skip'\n",
    "X_probs_predict['probs_pred_right'] = X_probs_predict['probs_pred_left'].apply(lambda x: 1-x)\n",
    "\n",
    "X_probs_predict['predict_pred_left'] = X_probs_predict['probs_pred_left'].apply(predict)\n",
    "X_probs_predict[['team left', 'team right', 'probs_pred_left', 'probs_pred_right']]"
   ]
  },
  {
   "cell_type": "code",
   "execution_count": null,
   "metadata": {},
   "outputs": [],
   "source": []
  }
 ],
 "metadata": {
  "kernelspec": {
   "display_name": "Python 3",
   "language": "python",
   "name": "python3"
  },
  "language_info": {
   "codemirror_mode": {
    "name": "ipython",
    "version": 3
   },
   "file_extension": ".py",
   "mimetype": "text/x-python",
   "name": "python",
   "nbconvert_exporter": "python",
   "pygments_lexer": "ipython3",
   "version": "3.8.3"
  },
  "toc": {
   "base_numbering": 1,
   "nav_menu": {},
   "number_sections": true,
   "sideBar": true,
   "skip_h1_title": false,
   "title_cell": "Table of Contents",
   "title_sidebar": "Contents",
   "toc_cell": false,
   "toc_position": {},
   "toc_section_display": true,
   "toc_window_display": false
  }
 },
 "nbformat": 4,
 "nbformat_minor": 4
}
